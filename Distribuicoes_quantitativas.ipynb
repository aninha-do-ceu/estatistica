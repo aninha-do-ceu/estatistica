{
 "cells": [
  {
   "cell_type": "markdown",
   "id": "7d08b6b8",
   "metadata": {},
   "source": [
    "## Estudo de Distribuições"
   ]
  },
  {
   "cell_type": "markdown",
   "id": "6fce9d02",
   "metadata": {},
   "source": [
    "## Variáveis Aleatórias Discretas"
   ]
  },
  {
   "cell_type": "markdown",
   "id": "032cdcdc",
   "metadata": {},
   "source": [
    "## Definição de Função de Probabilidade \n",
    "\n",
    "Chama-se função de probabilidade da variável aleatória discreta X, que assume $x_1,x_2,...,x_n$ a função {$(x_i,p(x_i), i = 1,2,..,n)$}, que associa a cada $x_i$ sua probabilidade $p(x_i)$\n",
    "\n",
    "$$\n",
    "P(X = x_i) = P(A)\n",
    "$$\n",
    "onde\n",
    "$$\n",
    "A = {\\omega_1, \\omega_2, ...} \\subset \\Omega\n",
    "$$\n",
    "tal que $X(\\omega_1) = x_i$, se $\\omega_i \\in A$ e $X(\\omega_i) \\neq x_i$ se $\\omega_i \\in A^{c}$\n",
    "\n",
    "## Esperança de Uma V.A. Discreta\n",
    "\n",
    "Chama-se valor médio ou esperança da variável aleatória X o valor\n",
    "\n",
    "$$\n",
    "E(X) = \\sum_{i=1}^{n} x_i P(X = x_i) = \\sum_{i=1}^{n}x_i.p_i\n",
    "$$\n",
    "\n",
    "## Variância de V.A. Discreta\n",
    "\n",
    "Chama-se variância da variável aleatória X o valor\n",
    "\n",
    "$$\n",
    "Var(X) = \\sum_{i=1}^{n}(x_i - E(X))^{2}.p_i\n",
    "$$\n",
    "\n",
    "## Desvio Padrão de V.A. Discreta\n",
    "\n",
    "Temos que o desvio padrão da variável aleatória X é a raiz quadrada da variância\n",
    "\n",
    "$$\n",
    "DP(X) = \\sqrt{\\sum_{i=1}^{n}(x_i - E(X))^{2}.p_i}\n",
    "$$\n",
    "\n",
    "## F.D.A - Função de Distribuição Acumulada\n",
    "\n",
    "$$\n",
    "F(x) = P(X \\leq x) \n",
    "$$"
   ]
  },
  {
   "cell_type": "markdown",
   "id": "061a9e5a",
   "metadata": {},
   "source": [
    "### Estudar viabilidade do empreendimento\n",
    "<br>O empreendimento é uma firma para montagem de um produto composto de uma esfera e um cilindro, adquiridas das fábricas A e B.</br>\n",
    "<br>Cada componente pode ser classificado como bom, longo ou curto. Além disso, o preço de cada componente é R$ 5,00 e as probabilidades de cada componente em cada classificação é</br>\n",
    "\n",
    "Produto | Fábrica A (Cilindro) | Fábrica B (Esfera)\n",
    "--------|----------------------|------------------\n",
    "Bom (B) | 0,8 | 0,7 \n",
    "Longo (L) | 0,1 | 0,2 \n",
    "Curto (C) | 0,1 | 0,1\n",
    "\n",
    "\n",
    "<br>Se o produto final possuir componente C, será vendido a 5,00 reais. Se apresentar L, o produto poderá ser recuperado a um custo de 5,00 reais. Se o preço da venda for R$ 25,00, como seria a distribuição de frequência de X: Lucro por conjunto?</br>\n",
    "### Espaço Amostral:\n",
    "$$\n",
    "\\Omega = (BB, BL, BC, LB, LL, LC, CB, CL, CC)\n",
    "$$\n",
    "\n",
    "### Eventos e Probabilidade\n",
    "X | P(X) | Lucro\n",
    "--|------|--------\n",
    "BB|0,8*0,7 = 0,56|25-10 = 15\n",
    "BL|0,8*0,2 = 0,16|25-10-5 = 10\n",
    "BC|0,8*0,1* = 0,08|5-10 = -5\n",
    "LB|0,1*0,7 = 0,07|25-10-5 = 10\n",
    "LL|0,1*0,2 = 0,02|25-10-5-5 = 5\n",
    "LC|0,1*0,1* = 0,01|5-10 = -5\n",
    "CB|0,1*0,7 = 0,07|5-10 = -5\n",
    "CL|0,1*0,2 = 0,02|5-10 = -5\n",
    "CC|0,1*0,1* = 0,01|5-10 = -5\n",
    "\n",
    "### Distribuição de X: Lucro por Conjunto\n",
    "X | Eventos | P(X)\n",
    "--|---------|----\n",
    "15|{BB}     |0,56\n",
    "10|{BL,LB}  |0,16 + 0,07 = 0,23\n",
    "5 |{LL}     |0,02\n",
    "-5|{BC,LC,CB,CL,CC}|0,08 + 0,01 + 0,07 + 0,02 + 0,01 = 0,19\n",
    "\n",
    "### Distribuição de Y: Custo de Recuperação de Conjunto\n",
    "\n",
    "X| Eventos | P(X)\n",
    "-|---------|-----\n",
    "10| {LL}   | 0,02\n",
    "5| {BL,LB} | 0,23\n",
    "0| {BB,BC,LC,CB,CL,CC}| 0,75"
   ]
  },
  {
   "cell_type": "code",
   "execution_count": 2,
   "id": "fc0f8f11",
   "metadata": {},
   "outputs": [],
   "source": [
    "import pandas as pd\n",
    "import numpy as np\n",
    "import math\n",
    "import matplotlib.pyplot as plt\n",
    "import seaborn as sns"
   ]
  },
  {
   "cell_type": "code",
   "execution_count": 3,
   "id": "ed9e1e96",
   "metadata": {},
   "outputs": [
    {
     "name": "stdout",
     "output_type": "stream",
     "text": [
      "A esperança da variável lucro é: 9.850000000000001\n",
      "A variância da variável lucro é:  57.227500000000006\n",
      "O desvio padrão da variável lucro é:  7.564885987243959\n",
      "A esperança da variável recuperacao é: 1.35\n",
      "A variância da variável recuperacao é:  5.927500000000001\n",
      "O desvio padrão da variável recuperacao é:  2.4346457647879705\n"
     ]
    },
    {
     "data": {
      "image/png": "[encoded data removed]",
      "text/plain": [
       "<Figure size 432x288 with 2 Axes>"
      ]
     },
     "metadata": {
      "needs_background": "light"
     },
     "output_type": "display_data"
    }
   ],
   "source": [
    "lucro = pd.DataFrame({'x':[-5,5,10,15], 'p_x':[0.19,0.02,0.23,0.56]})\n",
    "lucro['esp'] = lucro['x']*lucro['p_x']\n",
    "lucro['var'] = (lucro['x'] - sum(lucro['esp']))**2*lucro['p_x']\n",
    "\n",
    "recuperacao = pd.DataFrame({'x':[0,5,10], 'p_x':[0.75,0.23,0.02]})\n",
    "recuperacao['esp'] = recuperacao['x']*recuperacao['p_x']\n",
    "recuperacao['var'] = (recuperacao['x'] - sum(recuperacao['esp']))**2*recuperacao['p_x']\n",
    "\n",
    "fig, ax = plt.subplots(ncols = 2, nrows = 1)\n",
    "ax[0].scatter(lucro['x'], lucro['p_x'])\n",
    "ax[1].scatter(recuperacao['x'], recuperacao['p_x'])\n",
    "\n",
    "print(f'A esperança da variável lucro é: {sum(lucro.esp)}')\n",
    "print('A variância da variável lucro é: ', sum(lucro['var']))\n",
    "print('O desvio padrão da variável lucro é: ', (sum(lucro['var']))**(0.5))\n",
    "print(f'A esperança da variável recuperacao é: {sum(recuperacao.esp)}')\n",
    "print('A variância da variável recuperacao é: ', sum(recuperacao['var']))\n",
    "print('O desvio padrão da variável recuperacao é: ', (sum(recuperacao['var']))**(0.5))"
   ]
  },
  {
   "cell_type": "markdown",
   "id": "27d6a6c7",
   "metadata": {},
   "source": [
    "## Função de Distribuição Acumulada de Lucro"
   ]
  },
  {
   "cell_type": "code",
   "execution_count": 4,
   "id": "95b16ba7",
   "metadata": {},
   "outputs": [
    {
     "data": {
      "text/plain": [
       "<matplotlib.collections.PathCollection at 0x23dc0974700>"
      ]
     },
     "execution_count": 4,
     "metadata": {},
     "output_type": "execute_result"
    },
    {
     "data": {
      "image/png": "[encoded data removed]",
      "text/plain": [
       "<Figure size 432x288 with 1 Axes>"
      ]
     },
     "metadata": {
      "needs_background": "light"
     },
     "output_type": "display_data"
    }
   ],
   "source": [
    "fda = []\n",
    "soma = 0\n",
    "for i in range(lucro.shape[0]):\n",
    "    soma = soma + lucro.iloc[i,1]\n",
    "    fda.append(soma)\n",
    "\n",
    "fig, ax = plt.subplots()\n",
    "ax.scatter(lucro['x'], fda)"
   ]
  },
  {
   "cell_type": "markdown",
   "id": "653a7197",
   "metadata": {},
   "source": [
    "## Bolinhas\n",
    "\n",
    "Em uma caixa, há 3 bolas vermelhas e 2 brancas. Considere 2 extrações, sem reposição. Defina a v.a. X: N° bolas vermelhas\n",
    "\n",
    "Temos que as probabilidades de cada cor é:\n",
    "\n",
    "X | P(x)\n",
    "--|-----\n",
    "B | 2/5\n",
    "V | 3/5\n",
    "\n",
    "## Espaço Amostral\n",
    "\n",
    "$$\n",
    "\\Omega = (BB,BV,VB,VV)\n",
    "$$\n",
    "\n",
    "## Distribuição de Probabilidade de Número de Bolas Vermelhas\n",
    "\n",
    "X | Eventos | P(X)\n",
    "--|---------|-----\n",
    "0 | {BB}    | $$\\frac{2}{5}\\frac{1}{4}=\\frac{2}{20}$$\n",
    "1 | {BV,VB} | $$\\frac{2}{5}\\,\\frac{3}{4} + \\frac{3}{5}\\frac{2}{4}= \\frac{12}{20}$$\n",
    "2 | {VV}    | $$\\frac{3}{5}\\,\\frac{2}{4} = \\frac{6}{20}$$"
   ]
  },
  {
   "cell_type": "code",
   "execution_count": 5,
   "id": "370ea384",
   "metadata": {},
   "outputs": [
    {
     "data": {
      "text/plain": [
       "<matplotlib.collections.PathCollection at 0x23dc0a19c70>"
      ]
     },
     "execution_count": 5,
     "metadata": {},
     "output_type": "execute_result"
    },
    {
     "data": {
      "image/png": "[encoded data removed]",
      "text/plain": [
       "<Figure size 432x288 with 1 Axes>"
      ]
     },
     "metadata": {
      "needs_background": "light"
     },
     "output_type": "display_data"
    }
   ],
   "source": [
    "bolas = pd.DataFrame({'x':[0,1,2], 'p_x':[0.1,0.6,0.3]})\n",
    "\n",
    "fig, ax = plt.subplots()\n",
    "ax.scatter(bolas['x'], bolas['p_x'])"
   ]
  },
  {
   "cell_type": "markdown",
   "id": "1890dadf",
   "metadata": {},
   "source": [
    "## Lançamento de Moeda\n",
    "\n",
    "## Espaço Amostral\n",
    "\n",
    "Considere o lançamento de uma moeda. Defina a v.a. X: N° de caras obtidas\n",
    "\n",
    "- C = Cara\n",
    "- R = Coroa\n",
    "\n",
    "$$\n",
    "\\Omega = (CC, CR, RC, RR)\n",
    "$$\n",
    "\n",
    "## Distribuição de Probabilidade\n",
    "\n",
    "X | Eventos | P(X)\n",
    "--|---------|-----\n",
    "0 | {RR}    | 0.25\n",
    "1 | {CR, RC}| 0.5\n",
    "2 | {CC}    | 0.25"
   ]
  },
  {
   "cell_type": "code",
   "execution_count": 6,
   "id": "98980a03",
   "metadata": {},
   "outputs": [
    {
     "name": "stdout",
     "output_type": "stream",
     "text": [
      "Número médio de caras é 1.0\n"
     ]
    },
    {
     "data": {
      "image/png": "[encoded data removed]",
      "text/plain": [
       "<Figure size 432x288 with 1 Axes>"
      ]
     },
     "metadata": {
      "needs_background": "light"
     },
     "output_type": "display_data"
    }
   ],
   "source": [
    "cara = pd.DataFrame({'x':[0,1,2], 'p_x':[0.25,0.5,0.25]})\n",
    "cara['esp'] = cara['x']*cara['p_x']\n",
    "\n",
    "fig, ax = plt.subplots()\n",
    "ax.scatter(cara['x'], cara['p_x'])\n",
    "\n",
    "print(f'Número médio de caras é {sum(cara.esp)}')"
   ]
  },
  {
   "cell_type": "markdown",
   "id": "79dc1ab0",
   "metadata": {},
   "source": [
    "## Uniforme Discreta\n",
    "\n",
    "A probabilidade é igual para $x_1, x_2, ..., x_k$\n",
    "\n",
    "$$\n",
    "P(X = x_i) = p(x_i) = p = \\frac{1}{k} \n",
    "$$\n",
    "\n",
    "$com\\,i = 1, 2, ..., k$\n",
    "\n",
    "## Esperança\n",
    "\n",
    "$$\n",
    "E(x) = \\sum_{i=1}^{k}x_i.p(x_i) = \\sum_{i=1}^{k}x_i.\\frac{1}{k} = \\frac{1}{k}.\\sum_{i=1}^{k}x_i\n",
    "$$\n",
    "\n",
    "## Variância\n",
    "\n",
    "$$\n",
    "Var(X) = \\frac{1}{k}.(\\sum_{i=1}^{k}x_i^{2} - \\frac{(\\sum_{i=1}^{k}x_i)^{2}}{k})\n",
    "$$\n",
    "\n",
    "## FDA\n",
    "\n",
    "$$\n",
    "F(x) = \\sum_{x_i \\leq x} \\frac{1}{k} = \\frac{n(x)}{k}\n",
    "$$\n",
    "Com n(x) sendo o número de $x_i \\leq x$"
   ]
  },
  {
   "cell_type": "code",
   "execution_count": 6,
   "id": "855ba737",
   "metadata": {},
   "outputs": [],
   "source": [
    "def dist_uniforme(x):\n",
    "    du = pd.DataFrame({'x':[i for i in x], 'p_x': [1/len(x) for i in x]})\n",
    "    return du"
   ]
  },
  {
   "cell_type": "code",
   "execution_count": 9,
   "id": "5d6025df",
   "metadata": {},
   "outputs": [],
   "source": [
    "a = dist_uniforme([2,4])['x']\n",
    "a_prob = dist_uniforme([2,4])['p_x']"
   ]
  },
  {
   "cell_type": "code",
   "execution_count": 11,
   "id": "6fff0ea0",
   "metadata": {},
   "outputs": [
    {
     "name": "stdout",
     "output_type": "stream",
     "text": [
      "1.0\n"
     ]
    }
   ],
   "source": [
    "soma_a = sum([i for i in a])**2/len(a)\n",
    "soma_a2 = sum([i**2 for i in a])\n",
    "print((soma_a2 - soma_a)/len(a))"
   ]
  },
  {
   "cell_type": "markdown",
   "id": "a13dcbda",
   "metadata": {},
   "source": [
    "## Distribuição de Bernoulli\n",
    "\n",
    "Dois eventos: $A\\, ou\\, A^{c}$\n",
    "Assume apenas dois valores\n",
    "\n",
    "## Definição\n",
    "\n",
    "Chama-se v.a. de Bernoulli a variável aleatória X, que assume apenas os valores 0 ou 1, com função de probabilidade (x, p(x)) tal que\n",
    "\n",
    "$$\n",
    "P(0) = P(X = 0) = 1 - p\n",
    "$$\n",
    "\n",
    "$$\n",
    "P(1) = P(X = 1) = p\n",
    "$$\n",
    "\n",
    "## Esperança\n",
    "\n",
    "O valor médio da v.a. de Bernoulli é:\n",
    "\n",
    "$$\n",
    "E(x) = \\sum_{i=1}^{n} x_i.p_i = 0.(1-p) + 1.(p) = p\n",
    "$$\n",
    "\n",
    "## Variância\n",
    "\n",
    "A variância é:\n",
    "\n",
    "$$\n",
    "Var(x) = (\\sum_{i=1}^{n} x_i - E(x))^{2}p_i = (0 - p)^{2}.(1-p) + (1 - p)^{2}.(p) = p^{2}(1-p) + (1-p)^{2}.p = p.(1-p)\n",
    "$$\n",
    "\n",
    "## Função de Distribuição Acumulada\n",
    "\n",
    "$$\n",
    "\\left\\{\\begin{matrix}\n",
    " 0, & se\\, x < 0\\\\ \n",
    " 1 - p, & se\\, 0 \\leq x < 1 \\\\ \n",
    " 1, & se\\, x \\geq 1 \n",
    "\\end{matrix}\\right.\n",
    "$$"
   ]
  },
  {
   "cell_type": "markdown",
   "id": "d2bf56a7",
   "metadata": {},
   "source": [
    "## Binomial\n",
    "\n",
    "Repetindo o ensaio de Bernoulli $n$ vezes, obtemos uma amostra de tamanho $n$ de uma distribuição de Bernoulli. Suponha as repetições independentes. Supondo um experimento repetido 5 vezes, um dos resultados pode ser:\n",
    "\n",
    "$$\n",
    "(0,0,1,1,0) = (1-p)^{2}.(p)^{2}.(1-p) = (1-p)^{3}.p^{2}\n",
    "$$\n",
    "\n",
    "Ex: Moeda lançada 3 vezes. Qual a probabilidade de cair 2 caras? Sem considerar ordem\n",
    "\n",
    "O espaço amostral do experimento é\n",
    "\n",
    "$$\n",
    "\\Omega = ((1,1,0), (1,0,1), (0,1,1))\n",
    "$$\n",
    "\n",
    "A probabilidade, então, é:\n",
    "\n",
    "$$\n",
    "3.((1-p).p^{2}) = 3.(0,5 . 0,25) = 3.0,125 = 0,375\n",
    "$$\n",
    "\n",
    "Todas as sequências tem mesma probabilidade de ocorrer, logo, deve-se descobrir quantas sequências com a propriedade especificada teremos.\n",
    "\n",
    "$$\n",
    "\\binom{n}{x} = \\frac{n!}{k!(n-k)!}\n",
    "$$\n",
    "\n",
    "Logo, considerando todas as sequências possíveis, temos:\n",
    "$$\n",
    "    P(X = x) = \\binom{n}{x} p^{x}(1-p)^{n-x}\n",
    "$$\n",
    "\n",
    "## Esperança\n",
    "\n",
    "A esperança tem a seguinte propriedade:\n",
    "\n",
    "$$\n",
    "E(aX) = aE(X)\n",
    "$$\n",
    "\n",
    "Pois\n",
    "\n",
    "$$\n",
    "E(aX) = \\sum_{i=1}^{n}a.x_{i}.pi = a.\\sum_{i=1}^{n}x_{i}.pi = a.E(X)\n",
    "$$\n",
    "\n",
    "Logo, pela propriedade acima, o valor médio de uma v. a. binomial é\n",
    "\n",
    "$$\n",
    "E(X) = n.p\n",
    "$$\n",
    "\n",
    "pois a v. a. é dada por n.Bernoulli\n",
    "\n",
    "\n",
    "## Variância\n",
    "\n",
    "Para variância temos\n",
    "\n",
    "$$\n",
    "Var(aX) = Var(X_1) + Var(X_2) + Var(X_3) + ... + Var(X_a) = \\sum_{i = 1}^{a}Var(X_i)\n",
    "$$\n",
    "\n",
    "Como as probabilidades são iguais, então\n",
    "\n",
    "$$\n",
    "Var(aX) = \\sum_{i = 1}^{a}Var(X_i) = a.p.(1-p)\n",
    "$$\n",
    "\n",
    "\n",
    "Logo, a variância para uma v. a. binomial, com X = n*Bernoulli é\n",
    "\n",
    "$$\n",
    "Var(X) = n.p.(1-p)\n",
    "$$"
   ]
  },
  {
   "cell_type": "code",
   "execution_count": 8,
   "id": "7c8d6dc5",
   "metadata": {},
   "outputs": [],
   "source": [
    "def dist_binomial(x, n, p):\n",
    "    return math.factorial(n)*p**(x)*(1-p)**(n-x)/(math.factorial(x)*math.factorial(n-x))\n",
    "\n",
    "def dist_binomial_df(x, n, p):\n",
    "    lista_x = [i for i in range(n+1)]\n",
    "    soma = 0\n",
    "    dist, acumulada = [], []\n",
    "    for i in lista_x:\n",
    "        dist.append(math.factorial(n)*p**(i)*(1-p)**(n-i)/(math.factorial(i)*math.factorial(n-i)))\n",
    "        soma = soma + math.factorial(n)*p**(i)*(1-p)**(n-i)/(math.factorial(i)*math.factorial(n-i))\n",
    "        acumulada.append(soma)\n",
    "    df = pd.DataFrame({'x':lista_x, 'p_x':dist, 'p_acum':acumulada})\n",
    "    return df"
   ]
  },
  {
   "cell_type": "code",
   "execution_count": 9,
   "id": "221d1d5d",
   "metadata": {},
   "outputs": [
    {
     "name": "stdout",
     "output_type": "stream",
     "text": [
      "A esperança é: 12.0\n"
     ]
    },
    {
     "data": {
      "text/plain": [
       "<matplotlib.lines.Line2D at 0x23dc0b1cd90>"
      ]
     },
     "execution_count": 9,
     "metadata": {},
     "output_type": "execute_result"
    },
    {
     "data": {
      "image/png": "[encoded data removed]",
      "text/plain": [
       "<Figure size 720x504 with 2 Axes>"
      ]
     },
     "metadata": {
      "needs_background": "light"
     },
     "output_type": "display_data"
    }
   ],
   "source": [
    "n = 30\n",
    "x = 5\n",
    "p = 0.4\n",
    "df2 = dist_binomial_df(x, n, p)\n",
    "\n",
    "print(f'A esperança é: {n*p}')\n",
    "\n",
    "fig, ax = plt.subplots(ncols = 2, figsize = (10, 7))\n",
    "ax[0].scatter(df2['x'], df2['p_x'])\n",
    "ax[0].axvline(x = n*p, color = 'purple')\n",
    "ax[1].scatter(df2['x'], df2['p_acum'])\n",
    "ax[1].axvline(x = n*p, color = 'purple')"
   ]
  },
  {
   "cell_type": "markdown",
   "id": "b7d3f510",
   "metadata": {},
   "source": [
    "## Exemplo\n",
    "\n",
    "Considere 10 ensaios de bernoulli, com a probabilidade de uma peça ser defeituosa de p = 0.1. Se X é número de peças defeituosas, calcule P(X = 10)\n",
    "\n",
    "O cálculo é \n",
    "\n",
    "$$\n",
    "P(X = 10) = \\binom{10}{10}p^{10}(1-p)^{0}\n",
    "$$"
   ]
  },
  {
   "cell_type": "code",
   "execution_count": 10,
   "id": "dc47840e",
   "metadata": {},
   "outputs": [
    {
     "name": "stdout",
     "output_type": "stream",
     "text": [
      "1.0000000000000006e-10\n",
      "Esperança é: 1.0\n",
      "Variancia é: 0.9\n"
     ]
    }
   ],
   "source": [
    "x = 10\n",
    "n = 10\n",
    "p = 0.1\n",
    "print(dist_binomial(x, n, p))\n",
    "print(f'Esperança é: {n*p}')\n",
    "print(f'Variancia é: {n*p*(1-p)}')"
   ]
  },
  {
   "cell_type": "markdown",
   "id": "afba6d79",
   "metadata": {},
   "source": [
    "## Distribuição Hipergeométrica\n",
    "\n",
    "### É a adequada para extrações sem reposição de uma população dividida por dois atributos\n",
    "\n",
    "Exemplo: Considere população de $N$ objetos, dos quais $r$ tem atributo $A$ e $N-r$ tem atributo $B$. Um grupo de $n$ elementos é escolhido ao acaso, sem reposição. Queremos saber quantos $k$ elementos tem o atributo $A$.\n",
    "Para isso, consideraremos a equação\n",
    "\n",
    "$$\n",
    "P_k = \\frac{\\binom{r}{k}\\binom{N - r}{n - k}}{\\binom{N}{n}}\n",
    "$$\n",
    "\n",
    "### Exemplo\n",
    "\n",
    "Suponha lote de 20 peças com 5 defeituosas. Escolhendo-se 4 peças ao acaso, a probabilidade de pegarmos duas defeituosas é\n",
    "- N = 20\n",
    "- n = 4\n",
    "- A = ser defeituosa\n",
    "- B = não ser defeituosa\n",
    "- r = 5\n",
    "- N - r = 15\n",
    "\n",
    "$$\n",
    "p(k = 2) = \\frac{\\binom{4}{2} \\binom{15}{2}}{\\binom{20}{4}}\n",
    "$$"
   ]
  },
  {
   "cell_type": "code",
   "execution_count": 11,
   "id": "0ec77c69",
   "metadata": {},
   "outputs": [],
   "source": [
    "def binomial(n,x):\n",
    "    return math.factorial(n)/(math.factorial(x)*math.factorial(n-x))"
   ]
  },
  {
   "cell_type": "code",
   "execution_count": 12,
   "id": "88a5c65c",
   "metadata": {},
   "outputs": [],
   "source": [
    "def dist_hipergeometrica(N,n,r,k):\n",
    "    return binomial(r,k)*binomial(N-r,n-k)/binomial(N,n)\n",
    "\n",
    "def dist_hipergeometrica_df(N,n,r,k):\n",
    "    lista_x = [x for x in range(r)]\n",
    "    prob = []\n",
    "    acumulada = []\n",
    "    soma = 0\n",
    "    for x in lista_x:\n",
    "        prob.append(binomial(r,x)*binomial(N-r,n-x)/binomial(N,n))\n",
    "        soma = soma + binomial(r,x)*binomial(N-r,n-x)/binomial(N,n)\n",
    "        acumulada.append(soma)\n",
    "    \n",
    "    df = pd.DataFrame({'x':lista_x, 'p_x': prob, 'p_acum':acumulada})\n",
    "    return df"
   ]
  },
  {
   "cell_type": "code",
   "execution_count": 13,
   "id": "d98518f1",
   "metadata": {},
   "outputs": [
    {
     "name": "stdout",
     "output_type": "stream",
     "text": [
      "0.21671826625386997\n"
     ]
    }
   ],
   "source": [
    "N = 20\n",
    "n = 4\n",
    "r = 5\n",
    "k = 2\n",
    "\n",
    "print(dist_hipergeometrica(N, n, r, k))"
   ]
  },
  {
   "cell_type": "code",
   "execution_count": 14,
   "id": "2451fe5a",
   "metadata": {},
   "outputs": [
    {
     "data": {
      "text/plain": [
       "<matplotlib.collections.PathCollection at 0x23dc0bdc250>"
      ]
     },
     "execution_count": 14,
     "metadata": {},
     "output_type": "execute_result"
    },
    {
     "data": {
      "image/png": "[encoded data removed]",
      "text/plain": [
       "<Figure size 720x504 with 2 Axes>"
      ]
     },
     "metadata": {
      "needs_background": "light"
     },
     "output_type": "display_data"
    }
   ],
   "source": [
    "df2 = dist_hipergeometrica_df(N, n, r, k)\n",
    "\n",
    "fig, ax = plt.subplots(ncols = 2, figsize = (10, 7))\n",
    "ax[0].scatter(df2['x'], df2['p_x'])\n",
    "ax[1].scatter(df2['x'], df2['p_acum'])"
   ]
  },
  {
   "cell_type": "code",
   "execution_count": 15,
   "id": "e84910f4",
   "metadata": {},
   "outputs": [
    {
     "data": {
      "text/plain": [
       "0.21671826625386997"
      ]
     },
     "execution_count": 15,
     "metadata": {},
     "output_type": "execute_result"
    }
   ],
   "source": [
    "20*15*14*3*2/(20*19*18*17)"
   ]
  },
  {
   "cell_type": "code",
   "execution_count": 16,
   "id": "0340069c",
   "metadata": {},
   "outputs": [
    {
     "data": {
      "text/plain": [
       "<matplotlib.collections.PathCollection at 0x23dc0c85280>"
      ]
     },
     "execution_count": 16,
     "metadata": {},
     "output_type": "execute_result"
    },
    {
     "data": {
      "image/png": "[encoded data removed]",
      "text/plain": [
       "<Figure size 720x504 with 2 Axes>"
      ]
     },
     "metadata": {
      "needs_background": "light"
     },
     "output_type": "display_data"
    }
   ],
   "source": [
    "N = 1500\n",
    "n = 200\n",
    "r = 400\n",
    "k = 0\n",
    "\n",
    "df2 = dist_hipergeometrica_df(N, n, r-300, k)\n",
    "\n",
    "fig, ax = plt.subplots(ncols = 2, figsize = (10, 7))\n",
    "ax[0].scatter(df2['x'], df2['p_x'])\n",
    "ax[1].scatter(df2['x'], df2['p_acum'])"
   ]
  },
  {
   "cell_type": "markdown",
   "id": "7cc7aa6f",
   "metadata": {},
   "source": [
    "## Distribuição de Poisson\n",
    "\n",
    "Dada uma média num certo intervalo, $\\lambda$, tomando $k = 0,1,..,n$, a distribuição de Poisson é dada por\n",
    "\n",
    "$$\n",
    "\\frac{e^{-n.p}..(np)^{k}}{k!}\n",
    "$$\n"
   ]
  },
  {
   "cell_type": "markdown",
   "id": "6697b19d",
   "metadata": {},
   "source": [
    "## Exemplo\n",
    "\n",
    "Um telefone recebe uma média de 5 chamadas por minuto. Supondo que a distribuição de Poisson seja adequada à essa situação, obtenha a probabilidade do telefone não receber chamadas durante um intervalo de um minuto."
   ]
  },
  {
   "cell_type": "code",
   "execution_count": 17,
   "id": "94bdebbb",
   "metadata": {},
   "outputs": [],
   "source": [
    "def dist_poisson(n, media):\n",
    "    val, x = [], []\n",
    "    for i in range(n+1):\n",
    "        x.append(i)\n",
    "        val.append((media**i)*(math.exp(-media))/math.factorial(i))\n",
    "    df = pd.DataFrame({'x': x, 'prob_x': val})\n",
    "    return df"
   ]
  },
  {
   "cell_type": "code",
   "execution_count": 18,
   "id": "b4cc0dd1",
   "metadata": {},
   "outputs": [
    {
     "data": {
      "text/html": [
       "<div>\n",
       "<style scoped>\n",
       "    .dataframe tbody tr th:only-of-type {\n",
       "        vertical-align: middle;\n",
       "    }\n",
       "\n",
       "    .dataframe tbody tr th {\n",
       "        vertical-align: top;\n",
       "    }\n",
       "\n",
       "    .dataframe thead th {\n",
       "        text-align: right;\n",
       "    }\n",
       "</style>\n",
       "<table border=\"1\" class=\"dataframe\">\n",
       "  <thead>\n",
       "    <tr style=\"text-align: right;\">\n",
       "      <th></th>\n",
       "      <th>x</th>\n",
       "      <th>prob_x</th>\n",
       "    </tr>\n",
       "  </thead>\n",
       "  <tbody>\n",
       "    <tr>\n",
       "      <th>0</th>\n",
       "      <td>0</td>\n",
       "      <td>2.061154e-09</td>\n",
       "    </tr>\n",
       "    <tr>\n",
       "      <th>1</th>\n",
       "      <td>1</td>\n",
       "      <td>4.122307e-08</td>\n",
       "    </tr>\n",
       "    <tr>\n",
       "      <th>2</th>\n",
       "      <td>2</td>\n",
       "      <td>4.122307e-07</td>\n",
       "    </tr>\n",
       "    <tr>\n",
       "      <th>3</th>\n",
       "      <td>3</td>\n",
       "      <td>2.748205e-06</td>\n",
       "    </tr>\n",
       "    <tr>\n",
       "      <th>4</th>\n",
       "      <td>4</td>\n",
       "      <td>1.374102e-05</td>\n",
       "    </tr>\n",
       "    <tr>\n",
       "      <th>5</th>\n",
       "      <td>5</td>\n",
       "      <td>5.496410e-05</td>\n",
       "    </tr>\n",
       "    <tr>\n",
       "      <th>6</th>\n",
       "      <td>6</td>\n",
       "      <td>1.832137e-04</td>\n",
       "    </tr>\n",
       "    <tr>\n",
       "      <th>7</th>\n",
       "      <td>7</td>\n",
       "      <td>5.234676e-04</td>\n",
       "    </tr>\n",
       "    <tr>\n",
       "      <th>8</th>\n",
       "      <td>8</td>\n",
       "      <td>1.308669e-03</td>\n",
       "    </tr>\n",
       "    <tr>\n",
       "      <th>9</th>\n",
       "      <td>9</td>\n",
       "      <td>2.908153e-03</td>\n",
       "    </tr>\n",
       "    <tr>\n",
       "      <th>10</th>\n",
       "      <td>10</td>\n",
       "      <td>5.816307e-03</td>\n",
       "    </tr>\n",
       "    <tr>\n",
       "      <th>11</th>\n",
       "      <td>11</td>\n",
       "      <td>1.057510e-02</td>\n",
       "    </tr>\n",
       "    <tr>\n",
       "      <th>12</th>\n",
       "      <td>12</td>\n",
       "      <td>1.762517e-02</td>\n",
       "    </tr>\n",
       "    <tr>\n",
       "      <th>13</th>\n",
       "      <td>13</td>\n",
       "      <td>2.711565e-02</td>\n",
       "    </tr>\n",
       "    <tr>\n",
       "      <th>14</th>\n",
       "      <td>14</td>\n",
       "      <td>3.873664e-02</td>\n",
       "    </tr>\n",
       "    <tr>\n",
       "      <th>15</th>\n",
       "      <td>15</td>\n",
       "      <td>5.164885e-02</td>\n",
       "    </tr>\n",
       "    <tr>\n",
       "      <th>16</th>\n",
       "      <td>16</td>\n",
       "      <td>6.456107e-02</td>\n",
       "    </tr>\n",
       "    <tr>\n",
       "      <th>17</th>\n",
       "      <td>17</td>\n",
       "      <td>7.595420e-02</td>\n",
       "    </tr>\n",
       "    <tr>\n",
       "      <th>18</th>\n",
       "      <td>18</td>\n",
       "      <td>8.439355e-02</td>\n",
       "    </tr>\n",
       "    <tr>\n",
       "      <th>19</th>\n",
       "      <td>19</td>\n",
       "      <td>8.883532e-02</td>\n",
       "    </tr>\n",
       "    <tr>\n",
       "      <th>20</th>\n",
       "      <td>20</td>\n",
       "      <td>8.883532e-02</td>\n",
       "    </tr>\n",
       "    <tr>\n",
       "      <th>21</th>\n",
       "      <td>21</td>\n",
       "      <td>8.460506e-02</td>\n",
       "    </tr>\n",
       "    <tr>\n",
       "      <th>22</th>\n",
       "      <td>22</td>\n",
       "      <td>7.691369e-02</td>\n",
       "    </tr>\n",
       "    <tr>\n",
       "      <th>23</th>\n",
       "      <td>23</td>\n",
       "      <td>6.688147e-02</td>\n",
       "    </tr>\n",
       "    <tr>\n",
       "      <th>24</th>\n",
       "      <td>24</td>\n",
       "      <td>5.573456e-02</td>\n",
       "    </tr>\n",
       "    <tr>\n",
       "      <th>25</th>\n",
       "      <td>25</td>\n",
       "      <td>4.458765e-02</td>\n",
       "    </tr>\n",
       "    <tr>\n",
       "      <th>26</th>\n",
       "      <td>26</td>\n",
       "      <td>3.429819e-02</td>\n",
       "    </tr>\n",
       "  </tbody>\n",
       "</table>\n",
       "</div>"
      ],
      "text/plain": [
       "     x        prob_x\n",
       "0    0  2.061154e-09\n",
       "1    1  4.122307e-08\n",
       "2    2  4.122307e-07\n",
       "3    3  2.748205e-06\n",
       "4    4  1.374102e-05\n",
       "5    5  5.496410e-05\n",
       "6    6  1.832137e-04\n",
       "7    7  5.234676e-04\n",
       "8    8  1.308669e-03\n",
       "9    9  2.908153e-03\n",
       "10  10  5.816307e-03\n",
       "11  11  1.057510e-02\n",
       "12  12  1.762517e-02\n",
       "13  13  2.711565e-02\n",
       "14  14  3.873664e-02\n",
       "15  15  5.164885e-02\n",
       "16  16  6.456107e-02\n",
       "17  17  7.595420e-02\n",
       "18  18  8.439355e-02\n",
       "19  19  8.883532e-02\n",
       "20  20  8.883532e-02\n",
       "21  21  8.460506e-02\n",
       "22  22  7.691369e-02\n",
       "23  23  6.688147e-02\n",
       "24  24  5.573456e-02\n",
       "25  25  4.458765e-02\n",
       "26  26  3.429819e-02"
      ]
     },
     "execution_count": 18,
     "metadata": {},
     "output_type": "execute_result"
    }
   ],
   "source": [
    "df_poisson = dist_poisson(26, 20)\n",
    "df_poisson"
   ]
  },
  {
   "cell_type": "code",
   "execution_count": 19,
   "id": "0fe74a40",
   "metadata": {},
   "outputs": [
    {
     "data": {
      "text/plain": [
       "<matplotlib.collections.PathCollection at 0x23dc0cda7c0>"
      ]
     },
     "execution_count": 19,
     "metadata": {},
     "output_type": "execute_result"
    },
    {
     "data": {
      "image/png": "[encoded data removed]",
      "text/plain": [
       "<Figure size 432x288 with 1 Axes>"
      ]
     },
     "metadata": {
      "needs_background": "light"
     },
     "output_type": "display_data"
    }
   ],
   "source": [
    "fig, ax = plt.subplots()\n",
    "ax.scatter(df_poisson['x'], df_poisson['prob_x'])"
   ]
  }
 ],
 "metadata": {
  "kernelspec": {
   "display_name": "Python 3",
   "language": "python",
   "name": "python3"
  },
  "language_info": {
   "codemirror_mode": {
    "name": "ipython",
    "version": 3
   },
   "file_extension": ".py",
   "mimetype": "text/x-python",
   "name": "python",
   "nbconvert_exporter": "python",
   "pygments_lexer": "ipython3",
   "version": "3.8.8"
  }
 },
 "nbformat": 4,
 "nbformat_minor": 5
}
